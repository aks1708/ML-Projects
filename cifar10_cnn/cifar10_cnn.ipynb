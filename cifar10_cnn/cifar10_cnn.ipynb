{
 "cells": [
  {
   "cell_type": "code",
   "execution_count": null,
   "id": "af376fcc",
   "metadata": {},
   "outputs": [],
   "source": [
    "#Importing all the relevant libraries \n",
    "import tensorflow as tf\n",
    "from tensorflow.keras import layers\n",
    "from tensorflow.keras.datasets import cifar10\n",
    "import numpy as np\n",
    "import matplotlib.pyplot as plt"
   ]
  },
  {
   "cell_type": "code",
   "execution_count": null,
   "id": "48178c66",
   "metadata": {},
   "outputs": [],
   "source": [
    "#Loading the data from the cifar10 dataset\n",
    "(X_train,y_train), (X_test,y_test) = cifar10.load_data()"
   ]
  },
  {
   "cell_type": "code",
   "execution_count": null,
   "id": "c2536bce",
   "metadata": {},
   "outputs": [],
   "source": [
    "print(X_train.shape)\n",
    "print(y_train.shape)\n",
    "print(X_test.shape)\n",
    "print(y_test.shape)"
   ]
  },
  {
   "cell_type": "code",
   "execution_count": null,
   "id": "302c5cc7",
   "metadata": {},
   "outputs": [],
   "source": [
    "#Examining the first image in the training set which is a frog (given label 6)\n",
    "first_image = X_train[0]\n",
    "plt.imshow(first_image)\n",
    "print(first_image)\n",
    "print(y_train[0])"
   ]
  },
  {
   "cell_type": "code",
   "execution_count": null,
   "id": "09ebf762",
   "metadata": {},
   "outputs": [],
   "source": [
    "#First we need to normalize the dataset since the range of values are between 0 and 255\n",
    "\n",
    "X_train_norm = X_train/255\n",
    "X_test_norm = X_test/255\n",
    "\n",
    "#Create a validation set from the training set \n",
    "\n",
    "validation_proportion = 0.2\n",
    "training_data_size = int(len(X_train_norm)*(1-validation_proportion))\n",
    "\n",
    "X_final_train, y_final_train = X_train_norm[:training_data_size], y_train[:training_data_size]\n",
    "X_val, y_val = X_train_norm[training_data_size:], y_train[training_data_size:]"
   ]
  },
  {
   "cell_type": "code",
   "execution_count": null,
   "id": "1d232a5f",
   "metadata": {},
   "outputs": [],
   "source": [
    "#Creating a callback to end training early if the accuracy reaches 90% or more\n",
    "\n",
    "class Callback(tf.keras.callbacks.Callback):\n",
    "    \n",
    "    def on_epoch_end(self, epoch, logs=None):\n",
    "        if logs.get('accuracy') >= 0.9:         \n",
    "            print(\"\\nStopping training early. Accuracy has reached 90%\")\n",
    "            self.model.stop_training = True"
   ]
  },
  {
   "cell_type": "code",
   "execution_count": null,
   "id": "20ba8b44",
   "metadata": {},
   "outputs": [],
   "source": [
    "#Build our model to train\n",
    "\n",
    "callback = Callback()\n",
    "\n",
    "model = tf.keras.Sequential()\n",
    "\n",
    "#INPUT \n",
    "model.add(layers.Conv2D(32,3,input_shape=(32,32,3), kernel_regularizer=tf.keras.regularizers.l1(l1=0.01)))\n",
    "model.add(layers.MaxPool2D((2,2)))\n",
    "model.add(layers.Flatten())\n",
    "\n",
    "#HIDDEN\n",
    "model.add(layers.Dense(256, activation='relu'))\n",
    "model.add(layers.Dropout(0.2))\n",
    "model.add(layers.Dense(128, activation='relu'))\n",
    "model.add(layers.Dropout(0.2))\n",
    "\n",
    "#OUTPUT\n",
    "model.add(layers.Dense(10,activation='softmax'))\n",
    "\n",
    "print(model.summary())\n",
    "\n",
    "model.compile(loss='sparse_categorical_crossentropy',optimizer='adam',metrics=['accuracy'])\n",
    "\n",
    "history = model.fit(X_final_train, y_final_train, epochs=50, callbacks=[callback], validation_data=(X_val, y_val))"
   ]
  },
  {
   "cell_type": "code",
   "execution_count": null,
   "id": "9d5e5412",
   "metadata": {},
   "outputs": [],
   "source": [
    "history_dict = history.history\n",
    "loss = history_dict['loss']\n",
    "accuracy = history_dict['accuracy']\n",
    "val_loss = history_dict['val_loss']\n",
    "val_accuracy = history_dict['val_accuracy']\n",
    "\n",
    "epochs = np.array(range(len(loss))) + 1\n",
    "\n",
    "fig, (ax1,ax2) = plt.subplots(1,2)\n",
    "\n",
    "fig.set_figheight(5)\n",
    "fig.set_figwidth(15)\n",
    "\n",
    "ax1.plot(epochs, loss, label=\"Training loss\")\n",
    "ax1.plot(epochs,val_loss,label=\"Validation loss\")\n",
    "\n",
    "ax1.set(xlabel=\"Epoch\",ylabel=\"Loss\")\n",
    "\n",
    "ax1.legend()\n",
    "\n",
    "ax2.plot(epochs, accuracy, label=\"Training accuracy\",color='green')\n",
    "ax2.plot(epochs,val_accuracy,label=\"Validation accuracy\",color='magenta')\n",
    "\n",
    "ax2.legend()\n",
    "\n",
    "ax2.set(xlabel=\"Epoch\",ylabel=\"Acccuracy\")\n"
   ]
  },
  {
   "cell_type": "code",
   "execution_count": null,
   "id": "af317909",
   "metadata": {},
   "outputs": [],
   "source": [
    "#EVALUATE OUR MODEL ON THE TEST SET\n",
    "\n",
    "loss, accuracy = model.evaluate(X_test_norm, y_test)\n",
    "\n",
    "print(\"The loss on the test set is {loss}\".format(loss=loss))\n",
    "print(\"The accuracy on the test set is {accuracy}\".format(accuracy=accuracy))"
   ]
  },
  {
   "cell_type": "code",
   "execution_count": null,
   "id": "99a7e6e0",
   "metadata": {},
   "outputs": [],
   "source": [
    "#Evaluating the model on the first test image\n",
    "plt.imshow(X_test[0])\n",
    "print(\"The predicted class is {value}\".format(value=model.predict(np.array([X_test_norm[0]])).argmax()))\n",
    "print(\"The actual class is {value}\".format(value=y_test[0]))"
   ]
  },
  {
   "cell_type": "code",
   "execution_count": null,
   "id": "42d5e352",
   "metadata": {},
   "outputs": [],
   "source": [
    "plt.imshow(X_test[4])\n",
    "print(\"The predicted class is {value}\".format(value=model.predict(np.array([X_test_norm[4]])).argmax()))\n",
    "print(\"The actual class is {value}\".format(value=y_test[4]))"
   ]
  },
  {
   "cell_type": "code",
   "execution_count": null,
   "id": "9aca2a45",
   "metadata": {},
   "outputs": [],
   "source": [
    "plt.imshow(X_test[10])\n",
    "print(\"The predicted class is {value}\".format(value=model.predict(np.array([X_test_norm[10]])).argmax()))\n",
    "print(\"The actual class is {value}\".format(value=y_test[10]))"
   ]
  },
  {
   "cell_type": "code",
   "execution_count": null,
   "id": "c1f26840",
   "metadata": {},
   "outputs": [],
   "source": []
  }
 ],
 "metadata": {
  "kernelspec": {
   "display_name": "Python 3 (ipykernel)",
   "language": "python",
   "name": "python3"
  },
  "language_info": {
   "codemirror_mode": {
    "name": "ipython",
    "version": 3
   },
   "file_extension": ".py",
   "mimetype": "text/x-python",
   "name": "python",
   "nbconvert_exporter": "python",
   "pygments_lexer": "ipython3",
   "version": "3.10.6"
  }
 },
 "nbformat": 4,
 "nbformat_minor": 5
}
